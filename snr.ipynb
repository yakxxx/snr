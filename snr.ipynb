{
 "metadata": {
  "name": "snr"
 },
 "nbformat": 3,
 "nbformat_minor": 0,
 "worksheets": [
  {
   "cells": [
    {
     "cell_type": "code",
     "collapsed": true,
     "input": [
      "import random\n",
      "import pandas as pd\n",
      "import time\n",
      "from sklearn.decomposition import PCA\n",
      "from sklearn.svm import SVC"
     ],
     "language": "python",
     "metadata": {},
     "outputs": [],
     "prompt_number": 79
    },
    {
     "cell_type": "markdown",
     "metadata": {},
     "source": [
      "## Sta\u0142e"
     ]
    },
    {
     "cell_type": "code",
     "collapsed": false,
     "input": [
      "K = 10"
     ],
     "language": "python",
     "metadata": {},
     "outputs": [],
     "prompt_number": 80
    },
    {
     "cell_type": "markdown",
     "metadata": {},
     "source": [
      "## Funckje pomocnicze\n"
     ]
    },
    {
     "cell_type": "code",
     "collapsed": false,
     "input": [
      "def separate_parts(blob):\n",
      "    \"\"\"Splits data to index column, real data and class column\"\"\"\n",
      "    indexes = np.array(blob[:,0].astype('uint8'))\n",
      "    data = blob[:,1:-1]\n",
      "    classes = np.array(blob[:,-1].astype('uint8'))\n",
      "    return indexes, data, classes\n",
      "\n",
      "def join_parts(indexes, data, classes):\n",
      "    \"\"\"Joins index verctor, data and classes vector into one table\"\"\"\n",
      "    return np.hstack((np.array([indexes]).T, data, np.array([classes]).T))\n"
     ],
     "language": "python",
     "metadata": {},
     "outputs": [],
     "prompt_number": 81
    },
    {
     "cell_type": "markdown",
     "metadata": {},
     "source": [
      "## Wczytywanie danych\n"
     ]
    },
    {
     "cell_type": "code",
     "collapsed": false,
     "input": [
      "df = pd.read_csv('data.txt', header=None)\n",
      "indexes, data, classes = separate_parts(df.as_matrix())\n",
      "classes = classes <= 4"
     ],
     "language": "python",
     "metadata": {},
     "outputs": [],
     "prompt_number": 82
    },
    {
     "cell_type": "markdown",
     "metadata": {},
     "source": [
      "## Normalizacja danych\n",
      "Po przyjrzeniu si\u0119 danym mo\u017cna zauwa\u017cy\u0107, \u017ce niekt\u00f3re parametry maj\u0105 du\u017co wi\u0119ksze warto\u015bci ni\u017c inne parametry. W zwi\u0105zku z tym, parametry o \u015brednio wy\u017cszych warto\u015bciach maj\u0105 w spos\u00f3b niejawny wi\u0119ksz\u0105 wag\u0119. Aby tego unikn\u0105\u0107 normalizujemy parametry odejmuj\u0105c warto\u015b\u0107 \u015bredni\u0105. Parametry maj\u0105 te\u017c r\u00f3\u017cne wariancje i tu sytuacja jest podobna wi\u0119c dzielimy wszystkie parametry przez ich odchylenie standardowe dla ca\u0142\u0119go zbioru danych (dosy\u0107 standardowa normalizacja danych wej\u015bciowych). Przeprowadza\u0142em eksperymenty z danymi znormalizowanymi i surowymi. Znormalizowane dane daj\u0105 du\u017co lepsze wyniki.\n"
     ]
    },
    {
     "cell_type": "code",
     "collapsed": true,
     "input": [
      "norm_data = data - np.mean(data, 0)\n",
      "norm_data /= np.std(data, 0)\n",
      "norm_data = join_parts(indexes, norm_data, classes)\n",
      "#norm_data = data"
     ],
     "language": "python",
     "metadata": {},
     "outputs": [],
     "prompt_number": 83
    },
    {
     "cell_type": "markdown",
     "metadata": {},
     "source": [
      "## K-fold\n"
     ]
    },
    {
     "cell_type": "code",
     "collapsed": false,
     "input": [
      "def kfold(data, k, step):\n",
      "    k_volume = len(data) / k\n",
      "    left = k_volume * step\n",
      "    right = k_volume * (step + 1)\n",
      "    return data[left:right], np.vstack((data[:left], data[right:]))"
     ],
     "language": "python",
     "metadata": {},
     "outputs": [],
     "prompt_number": 84
    },
    {
     "cell_type": "code",
     "collapsed": false,
     "input": [
      "test, train = kfold(norm_data, 10, 1)\n",
      "assert len(test) + len(train) == len(norm_data)\n",
      "print len(test), len(train)"
     ],
     "language": "python",
     "metadata": {},
     "outputs": [
      {
       "output_type": "stream",
       "stream": "stdout",
       "text": [
        "21 193\n"
       ]
      }
     ],
     "prompt_number": 85
    },
    {
     "cell_type": "markdown",
     "metadata": {},
     "source": [
      "## Analiza sk\u0142adowych g\u0142\u00f3wnych (bonus)\n",
      "\n",
      "Aby sprawdzi\u0107 czy nasze klasy s\u0105 w miar\u0119 sensowne zrzutowa\u0142em wszystkie parametry na 2 wymiary u\u017cywaj\u0105c PCA. Dla tych kt\u00f3rzy nie znaj\u0105 to w skr\u00f3cie PCA przekr\u0119ca uk\u0142ad wsp\u00f3\u0142rz\u0119dnych tak aby pierwsze wsp\u00f3\u0142rz\u0119dne nios\u0142y jak najwi\u0119cej informacji. W tym przypadku pierwsze dwie wsp\u00f3\u0142rz\u0119dne nios\u0105 50.6 % informacji, wi\u0119c mo\u017cna si\u0119 spodziewa\u0107, \u017ce og\u00f3lnie jest x lepiej ni\u017c na obrazku :)\n"
     ]
    },
    {
     "cell_type": "code",
     "collapsed": false,
     "input": [
      "_, data, _ = separate_parts(norm_data)\n",
      "pca = PCA()\n",
      "pca_transformed = pca.fit_transform(data)\n",
      "sum(pca.explained_variance_ratio_[0:2])"
     ],
     "language": "python",
     "metadata": {},
     "outputs": [
      {
       "output_type": "pyout",
       "prompt_number": 86,
       "text": [
        "0.50680399011126886"
       ]
      }
     ],
     "prompt_number": 86
    },
    {
     "cell_type": "code",
     "collapsed": false,
     "input": [
      "plt.figure(figsize=(10,6), dpi=100)\n",
      "plt.scatter(pca_transformed[classes,0], pca_transformed[classes,1], color=\"red\")\n",
      "plt.scatter(pca_transformed[classes==False,0], pca_transformed[classes==False,1], color=\"blue\")"
     ],
     "language": "python",
     "metadata": {},
     "outputs": [
      {
       "output_type": "pyout",
       "prompt_number": 87,
       "text": [
        "<matplotlib.collections.PathCollection at 0x5078d10>"
       ]
      },
      {
       "output_type": "display_data",
       "png": "[encoded data removed]"
      }
     ],
     "prompt_number": 87
    },
    {
     "cell_type": "markdown",
     "metadata": {},
     "source": [
      "## Klasyfikacja\n",
      "\n"
     ]
    },
    {
     "cell_type": "markdown",
     "metadata": {},
     "source": [
      "Na dole s\u0105 wyniki.\n",
      "\n",
      "kernel - rodzaj j\u0105dra. Mamy linear, poly 2, poly 3 i rbf kt\u00f3re kolejno odpowiadaj\u0105 j\u0105drom liniowemu, kwadratowemu, trzeciego stopnia i wyk\u0142adniczemu\n",
      "\n",
      "parametr C - kara za niepoprawne klasyfikacje. 1.0 - to znaczy ze dopuszczamy niepoprawne klasyfikacje, 1000.0 to znaczy ze nie dopuszczamy\n",
      "\n",
      "W drugiej linijce ka\u017cdego wyj\u015bcia jest lista krotek. Jest ich zawsze 10 bo parametr K przy kfoldingu przyj\u0105\u0142em 10. Pierwsza warto\u015b\u0107 krotki to skuteczno\u015b\u0107 klasyfikacji. 1.0 - to znacyz \u017ce wszystko zosta\u0142o dobrze zaklasyfikowane.\n",
      "Druga warto\u015b\u0107 krotki to czas wykonania w sekundach.\n"
     ]
    },
    {
     "cell_type": "code",
     "collapsed": false,
     "input": [
      "def process(classifier, train_data, test_data):\n",
      "    train_indexes, train_data, train_classes = separate_parts(train_data)\n",
      "    test_indexes, test_data, test_classes = separate_parts(test_data)\n",
      "    classifier.fit(train_data, train_classes)\n",
      "    return classifier.score(test_data, test_classes)\n",
      "\n",
      "for c in (1.0, 1000.0):\n",
      "    for kernel, params in (('linear', {}), ('poly', {'degree':2}), ('poly', {'degree':3}), ('rbf', {})):\n",
      "        params.update({'kernel': kernel, 'C':c})\n",
      "        print '*' * 70\n",
      "        print params\n",
      "        ret = []\n",
      "        for i in xrange(K):\n",
      "            test, train = kfold(norm_data, K, i)\n",
      "            start = time.time()\n",
      "            score = process(SVC(**params), train, test)\n",
      "            duration = time.time() - start\n",
      "            ret.append((score, duration))\n",
      "        print ret\n",
      "        print '*' * 70\n",
      "        print ''\n",
      "    "
     ],
     "language": "python",
     "metadata": {},
     "outputs": [
      {
       "output_type": "stream",
       "stream": "stdout",
       "text": [
        "**********************************************************************\n",
        "{'kernel': 'linear', 'C': 1.0}\n",
        "[(1.0, 0.002213001251220703), (1.0, 0.0013039112091064453), (1.0, 0.0012178421020507812), (1.0, 0.0015399456024169922), (0.95238095238095233, 0.0010991096496582031), (0.61904761904761907, 0.0011410713195800781), (0.90476190476190477, 0.0010631084442138672), (0.8571428571428571, 0.0010249614715576172), (0.47619047619047616, 0.0009109973907470703), (1.0, 0.0011479854583740234)]\n",
        "**********************************************************************\n",
        "\n",
        "**********************************************************************\n",
        "{'kernel': 'poly', 'C': 1.0, 'degree': 2}\n",
        "[(1.0, 0.0012078285217285156), (1.0, 0.0011858940124511719), (1.0, 0.001260995864868164), (1.0, 0.0012040138244628906), (1.0, 0.0013229846954345703), (0.61904761904761907, 0.0010309219360351562), (0.95238095238095233, 0.0011048316955566406), (0.8571428571428571, 0.001171112060546875), (0.14285714285714285, 0.0008170604705810547), (0.95238095238095233, 0.0011990070343017578)]\n",
        "**********************************************************************\n",
        "\n",
        "**********************************************************************\n",
        "{'kernel': 'poly', 'C': 1.0, 'degree': 3}\n",
        "[(1.0, 0.0012090206146240234), (1.0, 0.001046895980834961), (1.0, 0.001116037368774414), (1.0, 0.0011560916900634766), (1.0, 0.0011379718780517578), (0.7142857142857143, 0.001043081283569336), (0.95238095238095233, 0.0011489391326904297), (0.8571428571428571, 0.0011410713195800781), (0.047619047619047616, 0.0007691383361816406), (0.95238095238095233, 0.001107931137084961)]\n",
        "**********************************************************************\n",
        "\n",
        "**********************************************************************\n",
        "{'kernel': 'rbf', 'C': 1.0}\n",
        "[(1.0, 0.0013580322265625), (1.0, 0.001344919204711914), (1.0, 0.0013580322265625), (1.0, 0.0013201236724853516), (1.0, 0.0013298988342285156), (0.61904761904761907, 0.001165151596069336), (0.8571428571428571, 0.0012149810791015625), (0.8571428571428571, 0.0014009475708007812), (0.19047619047619047, 0.0009560585021972656), (1.0, 0.0012459754943847656)]\n",
        "**********************************************************************\n",
        "\n",
        "**********************************************************************\n",
        "{'kernel': 'linear', 'C': 1000.0}\n",
        "[(1.0, 0.11179614067077637), (1.0, 0.11201095581054688), (1.0, 0.44637298583984375), (1.0, 0.17945003509521484), (0.95238095238095233, 0.09386491775512695), (0.66666666666666663, 0.0926821231842041), (0.8571428571428571, 0.09329795837402344), (0.8571428571428571, 0.09991884231567383), (0.38095238095238093, 0.0022470951080322266), (1.0, 0.5707619190216064)]"
       ]
      },
      {
       "output_type": "stream",
       "stream": "stdout",
       "text": [
        "\n",
        "**********************************************************************\n",
        "\n",
        "**********************************************************************\n",
        "{'kernel': 'poly', 'C': 1000.0, 'degree': 2}\n",
        "[(0.95238095238095233, 0.0035810470581054688), (0.95238095238095233, 0.004216909408569336), (0.95238095238095233, 0.0029578208923339844), (1.0, 0.0035169124603271484), (1.0, 0.0043201446533203125), (0.76190476190476186, 0.0023889541625976562), (0.95238095238095233, 0.0029239654541015625), (0.8571428571428571, 0.004915952682495117), (0.2857142857142857, 0.0007669925689697266), (0.52380952380952384, 0.0037338733673095703)]\n",
        "**********************************************************************\n",
        "\n",
        "**********************************************************************\n",
        "{'kernel': 'poly', 'C': 1000.0, 'degree': 3}\n",
        "[(1.0, 0.0018858909606933594), (1.0, 0.0018970966339111328), (0.95238095238095233, 0.0016140937805175781), (1.0, 0.0017468929290771484), (0.95238095238095233, 0.001500844955444336), (0.7142857142857143, 0.0012621879577636719), (0.95238095238095233, 0.0012590885162353516), (0.8571428571428571, 0.0017960071563720703), (0.38095238095238093, 0.0008730888366699219), (0.95238095238095233, 0.0019681453704833984)]\n",
        "**********************************************************************\n",
        "\n",
        "**********************************************************************\n",
        "{'kernel': 'rbf', 'C': 1000.0}\n",
        "[(1.0, 0.0014491081237792969), (1.0, 0.001425027847290039), (0.95238095238095233, 0.0014488697052001953), (1.0, 0.0014410018920898438), (1.0, 0.0014009475708007812), (0.61904761904761907, 0.0012450218200683594), (0.80952380952380953, 0.0013039112091064453), (1.0, 0.0013899803161621094), (0.19047619047619047, 0.0008718967437744141), (0.95238095238095233, 0.0014119148254394531)]"
       ]
      },
      {
       "output_type": "stream",
       "stream": "stdout",
       "text": [
        "\n",
        "**********************************************************************\n",
        "\n"
       ]
      }
     ],
     "prompt_number": 88
    },
    {
     "cell_type": "markdown",
     "metadata": {},
     "source": [
      "\n"
     ]
    }
   ],
   "metadata": {}
  }
 ]
}